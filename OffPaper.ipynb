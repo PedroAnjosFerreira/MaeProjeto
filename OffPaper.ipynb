{
 "cells": [
  {
   "cell_type": "code",
   "execution_count": 1,
   "id": "f7f1a502-9477-449e-89b6-17739d5c2d9c",
   "metadata": {},
   "outputs": [],
   "source": [
    "from tabula import read_pdf\n",
    "import pandas as pd\n",
    "from openpyxl import load_workbook\n",
    "from PyPDF2 import PdfReader, PdfWriter\n",
    "from datetime import datetime\n",
    "import ipywidgets as widgets\n",
    "import io\n",
    "from IPython.display import display\n",
    "import getpass"
   ]
  },
  {
   "cell_type": "code",
   "execution_count": 2,
   "id": "33f3d378-dc97-4066-86bd-4ce22462f9b2",
   "metadata": {},
   "outputs": [
    {
     "name": "stderr",
     "output_type": "stream",
     "text": [
      "Enabling notebook extension jupyter-js-widgets/extension...\n",
      "      - Validating: ok\n",
      "Enabling: voila\n",
      "- Writing config: C:\\Users\\Pichau\\anaconda3\\envs\\Mae\\etc\\jupyter\n",
      "    - Validating...\n",
      "      voila 0.3.6 ok\n"
     ]
    }
   ],
   "source": [
    "!jupyter nbextension enable --py widgetsnbextension --sys-prefix\n",
    "!jupyter serverextension enable voila --sys-prefix"
   ]
  },
  {
   "cell_type": "code",
   "execution_count": 3,
   "id": "e93721f7-c0c5-419d-aea4-7c09269ccb07",
   "metadata": {},
   "outputs": [
    {
     "data": {
      "application/vnd.jupyter.widget-view+json": {
       "model_id": "e7f54d87e3874d53a6e347c9935f7e88",
       "version_major": 2,
       "version_minor": 0
      },
      "text/plain": [
       "VBox(children=(FileUpload(value={}, accept='*.pdf', description='Upload'), Button(button_style='success', desc…"
      ]
     },
     "metadata": {},
     "output_type": "display_data"
    }
   ],
   "source": [
    "text_1 = widgets.HTML(value=\"<h1>Pedido:</h1>\") \n",
    "file_upload = widgets.FileUpload(\n",
    "    accept='*.pdf',  \n",
    "    multiple=False\n",
    ")\n",
    "completion_text = widgets.Label(\n",
    "    value='Magica Feita!!',\n",
    ")\n",
    "completion_text.layout.visibility = 'hidden'\n",
    "button = widgets.Button(\n",
    "    description='Magica',\n",
    "    disabled=False,\n",
    "    button_style='success', # 'success', 'info', 'warning', 'danger' or ''\n",
    "    tooltip='Magica',\n",
    "    icon='check'\n",
    ")\n",
    "interface = widgets.VBox([file_upload, button, completion_text])\n",
    "interface"
   ]
  },
  {
   "cell_type": "code",
   "execution_count": 4,
   "id": "e41601ff-d744-4a6a-b011-b1e046d81917",
   "metadata": {},
   "outputs": [],
   "source": [
    "def on_button_clicked(event):\n",
    "#Lendo o arquivo e transformando em BytesIO para ser interpretado\n",
    "    keys = [*file_upload.value]\n",
    "    filename = str(keys[0])\n",
    "    content = file_upload.value\n",
    "    content = content[filename]['content']\n",
    "    content = io.BytesIO(content)\n",
    "    \n",
    "#Pegando o texto do arquivo\n",
    "    reader = PdfReader(content)\n",
    "    page = reader.pages[0]\n",
    "    text = page.extract_text()\n",
    "\n",
    "#cortando o arquivo\n",
    "    page.cropbox.upper_right = (842, 380)\n",
    "\n",
    "#salvando o arquivo cortado\n",
    "    writer = PdfWriter()\n",
    "    writer.addPage(page)\n",
    "    writer.write(\"a.pdf\")\n",
    "\n",
    "#Tranformando o arquivo cortado em Dataframe\n",
    "    table = read_pdf(\"a.pdf\", pages=\"1\")\n",
    "    table = table[0]\n",
    "\n",
    "#Tratando a DF\n",
    "    new_row = table.columns\n",
    "    table.loc[len(table.index)] = new_row\n",
    "    table.columns = ['a', 'b', 'Cod', 'd', 'a', 'd', 'Quant', 'f', 'g', 'h', 'i', 'j', 'k', 'l', 'm']\n",
    "    table = table[['Cod', 'Quant']]\n",
    "\n",
    "#Lendo o gabarito, que é o molde do arquivo final\n",
    "    gabarito_wb = load_workbook('GABARITO_jul22.xlsx')\n",
    "    gabarito = gabarito_wb['Gabarito']\n",
    "    \n",
    "#Lendo tabela com os preços\n",
    "    df = pd.read_excel('Offpaper_Atacado.xlsx')\n",
    "    preco_tbl = df[['Referencia', 'PREÇO']]\n",
    "    code = table[\"Cod\"].tolist()\n",
    "    code = [int(item) for item in code]\n",
    "    cont = 0\n",
    "    lista_preco = []\n",
    "    lista_ref = []\n",
    "    \n",
    "#Atribuindo os preços para cara código na ordem certa\n",
    "    for cod in code:\n",
    "        for value in preco_tbl['Referencia']:\n",
    "            if int(value) == int(cod):\n",
    "                index = preco_tbl['Referencia'].tolist().index(value)\n",
    "                preco = preco_tbl['PREÇO'][index]\n",
    "                lista_preco.append(preco)\n",
    "                lista_ref.append(value)\n",
    "\n",
    "    Quantidade = table[\"Quant\"].tolist()\n",
    "    cont = 0\n",
    "\n",
    "#Colocando na tabela a quantidade e preço de acordo com os códigos, ref é código\n",
    "    for ref in lista_ref:\n",
    "        for celula in gabarito['B']:\n",
    "            try:\n",
    "                cell = celula.value.split(\" - \")\n",
    "                if cell[0].isnumeric():\n",
    "                    if int(ref) == int(cell[0]):\n",
    "                        linha = celula.row\n",
    "                        gabarito[f'E{linha}'] = Quantidade[cont]\n",
    "                        gabarito[f'F{linha}'] = lista_preco[cont]\n",
    "                        cont += 1\n",
    "                        break\n",
    "            except:\n",
    "                pass\n",
    "            \n",
    "\n",
    "#tratando o text do PDF para obter as informações necessárias\n",
    "    def cropr(doc, start, end):\n",
    "        return doc[doc.find(start):doc.rfind(end)]\n",
    "\n",
    "    text = cropr(text, \"Endereço\", \"Bairro\")\n",
    "    text = cropr(text, \"Endereço\", \"Bairro\")\n",
    "    text = cropr(text, \"Endereço\", \"Bairro\")\n",
    "    text = text.split(\": \")\n",
    "\n",
    "    cnpj = text[4].split(\":\")\n",
    "    cnpj = cnpj[2].split(\"\\n\")\n",
    "    \n",
    "    insc = cnpj[1]\n",
    "    cnpj = cnpj[0]\n",
    "\n",
    "\n",
    "\n",
    "    endereco = text[5].split(\"\\n\")\n",
    "    bairro = endereco[1].split(\" \")\n",
    "    cep = endereco[2].split(\" \")\n",
    "    bairro = bairro[0]\n",
    "    cep = cep[0]\n",
    "\n",
    "    endereco = endereco[0]\n",
    "    endereco = cropr(endereco, \"RUA\", \"RUA\")\n",
    "    endereco = cropr(endereco, \"RUA\", \"RUA\")\n",
    "\n",
    "    cidade = text[0]\n",
    "    cidade = cidade.split(\"\\n\")\n",
    "    cidade = cidade[1]\n",
    "    cidade = cidade[0:cidade.rfind(\"Cidade\")].split(\" \")\n",
    "    cidade = list(filter(None, cidade))\n",
    "    estado = cidade[len(cidade)-1]\n",
    "    cidade.pop()\n",
    "    cidade = ' '.join(cidade)\n",
    "\n",
    "    gabarito['C7'].value = 'BIGNARDI IND.COM.DE PAP.E ARTEF.LTDA'\n",
    "    gabarito['F7'].value = cnpj\n",
    "    gabarito['J7'].value = insc\n",
    "    gabarito['C8'].value = endereco\n",
    "    gabarito['E8'].value = bairro\n",
    "    gabarito['I8'].value = cidade\n",
    "    gabarito['M8'].value = estado\n",
    "    # gabarito['C9'].value = 'LUCAS SANTOS'\n",
    "    gabarito['C6'].value = 'Penpel Representações'\n",
    "    gabarito['J6'].value = datetime.today().strftime('%d/%m/%Y')\n",
    "#Salvando Tabela e exibindo texto de finalização\n",
    "    completion_text.layout.visibility = 'visible'\n",
    "    gabarito_wb.save('C:/Users/'+getpass.getuser()+'/Downloads/Pedro.xlsx')\n",
    "    \n",
    "button.on_click(on_button_clicked)"
   ]
  },
  {
   "cell_type": "code",
   "execution_count": 6,
   "id": "050ac35e-2094-4167-9b6e-5e177fedd927",
   "metadata": {},
   "outputs": [
    {
     "name": "stderr",
     "output_type": "stream",
     "text": [
      "[NbConvertApp] Converting notebook Outro.ipynb to script\n",
      "[NbConvertApp] Writing 4883 bytes to Outro.py\n"
     ]
    }
   ],
   "source": [
    "!jupyter nbconvert --to script Outro.ipynb\n"
   ]
  },
  {
   "cell_type": "code",
   "execution_count": null,
   "id": "3bf16364",
   "metadata": {},
   "outputs": [],
   "source": []
  }
 ],
 "metadata": {
  "kernelspec": {
   "display_name": "Python 3 (ipykernel)",
   "language": "python",
   "name": "python3"
  },
  "language_info": {
   "codemirror_mode": {
    "name": "ipython",
    "version": 3
   },
   "file_extension": ".py",
   "mimetype": "text/x-python",
   "name": "python",
   "nbconvert_exporter": "python",
   "pygments_lexer": "ipython3",
   "version": "3.9.12"
  }
 },
 "nbformat": 4,
 "nbformat_minor": 5
}
