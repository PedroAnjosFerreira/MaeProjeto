{
 "cells": [
  {
   "cell_type": "code",
   "execution_count": 1,
   "id": "8a2fd956",
   "metadata": {},
   "outputs": [],
   "source": [
    "from tabula import read_pdf\n",
    "import pandas as pd\n",
    "from openpyxl import load_workbook\n",
    "from PyPDF2 import PdfReader\n",
    "from datetime import datetime\n",
    "import ipywidgets as widgets\n",
    "import io\n",
    "from IPython.display import display\n",
    "import getpass"
   ]
  },
  {
   "cell_type": "code",
   "execution_count": 2,
   "id": "e84dffc1",
   "metadata": {},
   "outputs": [
    {
     "name": "stderr",
     "output_type": "stream",
     "text": [
      "Enabling notebook extension jupyter-js-widgets/extension...\n",
      "      - Validating: ok\n",
      "Enabling: voila\n",
      "- Writing config: C:\\Users\\Pichau\\anaconda3\\envs\\Mae\\etc\\jupyter\n",
      "    - Validating...\n",
      "      voila 0.3.6 ok\n"
     ]
    }
   ],
   "source": [
    "!jupyter nbextension enable --py widgetsnbextension --sys-prefix\n",
    "!jupyter serverextension enable voila --sys-prefix"
   ]
  },
  {
   "cell_type": "code",
   "execution_count": 3,
   "id": "9e7c7bc5",
   "metadata": {
    "scrolled": true
   },
   "outputs": [
    {
     "data": {
      "application/vnd.jupyter.widget-view+json": {
       "model_id": "a8821dfd11b84c7c8b7f008ebb468cab",
       "version_major": 2,
       "version_minor": 0
      },
      "text/plain": [
       "VBox(children=(FileUpload(value={}, accept='*.pdf', description='Upload'), Button(button_style='success', desc…"
      ]
     },
     "metadata": {},
     "output_type": "display_data"
    }
   ],
   "source": [
    "text_1 = widgets.HTML(value=\"<h1>Pedido:</h1>\") \n",
    "file_upload = widgets.FileUpload(\n",
    "    accept='*.pdf',  \n",
    "    multiple=False\n",
    ")\n",
    "completion_text = widgets.Label(\n",
    "    value='Magica Feita!!',\n",
    ")\n",
    "completion_text.layout.visibility = 'hidden'\n",
    "button = widgets.Button(\n",
    "    description='Magica',\n",
    "    disabled=False,\n",
    "    button_style='success', # 'success', 'info', 'warning', 'danger' or ''\n",
    "    tooltip='Magica',\n",
    "    icon='check'\n",
    ")\n",
    "interface = widgets.VBox([file_upload, button, completion_text])\n",
    "interface"
   ]
  },
  {
   "cell_type": "code",
   "execution_count": 4,
   "id": "2d194b2a",
   "metadata": {
    "scrolled": true
   },
   "outputs": [],
   "source": [
    "def crop(doc, start, end):\n",
    "    return doc[doc.find(start):doc.find(end)+len(end)]\n",
    "\n",
    "def cropr(doc, start, end):\n",
    "    return doc[doc.find(start):doc.rfind(end)]\n",
    "\n",
    "def on_button_clicked(event):\n",
    "    keys = [*file_upload.value]\n",
    "    filename = str(keys[0])\n",
    "    content = file_upload.value\n",
    "    content = content[filename]['content']\n",
    "    content = io.BytesIO(content)\n",
    "    \n",
    "    reader = PdfReader(content)\n",
    "    page = reader.pages[0]\n",
    "    text_total = page.extract_text()\n",
    "\n",
    "    gabarito_wb = load_workbook('GABARITO_jul22.xlsx')\n",
    "    gabarito = gabarito_wb['Gabarito']\n",
    "    table_list = read_pdf(content, pages=\"all\")\n",
    "    table = table_list[1]\n",
    "    \n",
    "    new_row = table.columns\n",
    "    table.loc[3] = new_row\n",
    "    table.columns = table_list[0].columns\n",
    "    table['Item'] = table['Item'].astype(int)\n",
    "    table = table.set_index('Item')\n",
    "    table = table.sort_index()\n",
    "    table = table[[\"Cód.Prod.Fornecedor\", \"Qtde\"]]\n",
    "\n",
    "    df = pd.read_excel('Offpaper_Atacado.xlsx')\n",
    "    preco_tbl = df[['Referencia', 'PREÇO']]\n",
    "    code = table[\"Cód.Prod.Fornecedor\"].tolist()\n",
    "    code = [int(item) for item in code]\n",
    "    cont = 0\n",
    "    lista_preco = []\n",
    "    lista_ref = []\n",
    "    for cod in code:\n",
    "        for value in preco_tbl['Referencia']:\n",
    "            if int(value) == int(cod):\n",
    "                index = preco_tbl['Referencia'].tolist().index(value)\n",
    "                preco = preco_tbl['PREÇO'][index]\n",
    "                lista_preco.append(preco)\n",
    "                lista_ref.append(value)\n",
    "    # table[\"Preço\"] = lista_preco\n",
    "    # print(table)\n",
    "    codes = [str(item) for item in code]\n",
    "\n",
    "    Quantidade = table[\"Qtde\"].tolist()\n",
    "    cont = 0\n",
    "\n",
    "    ref_df = pd.read_excel('GABARITO_jul22.xlsx')\n",
    "    for ref in lista_ref:\n",
    "        for celula in gabarito['B']:\n",
    "            try:\n",
    "                cell = celula.value.split(\" - \")\n",
    "            except:\n",
    "                pass\n",
    "            try:\n",
    "                if cell[0].isnumeric():\n",
    "                    cell_ref = cell[0]\n",
    "            except:\n",
    "                cell_ref = \"1\"\n",
    "            try:\n",
    "                if int(ref) == int(cell_ref):\n",
    "                    linha = celula.row\n",
    "                    gabarito[f'E{linha}'] = Quantidade[cont]\n",
    "                    gabarito[f'F{linha}'] = lista_preco[cont]\n",
    "                    print(f'{Quantidade[cont]} - {lista_preco[cont]}')\n",
    "                    cont += 1\n",
    "                    break\n",
    "            except:\n",
    "                pass\n",
    "\n",
    "    text = crop(text_total, \"Endereço:\", \"P E\")\n",
    "    text = cropr(text, \"Endereço:\", \"P\")\n",
    "    text = text.split(\" - \")\n",
    "\n",
    "    bairro = text[1]\n",
    "    bairro = crop(bairro, bairro[0], \"Fone\").split(\" \")\n",
    "    bairro = list(filter(None, bairro))\n",
    "    bairro.pop()\n",
    "    bairro = ' '.join(bairro)\n",
    "\n",
    "    endereco = text[0].split(\": \")\n",
    "    endereco = endereco[1].strip()\n",
    "\n",
    "    cidade = text[3].strip()\n",
    "\n",
    "    estadoCnpj = text[4].split(\": \")\n",
    "    estado = estadoCnpj[0].split(\" \")\n",
    "    estado = list(filter(None, estado))\n",
    "    estado = estado[0].strip()\n",
    "\n",
    "    cnpj = estadoCnpj[1].strip()\n",
    "\n",
    "    insc = text[5].split(\" \")\n",
    "    insc = list(filter(None, insc))\n",
    "    insc = insc[0].strip()\n",
    "\n",
    "    gabarito['C7'].value = 'KAZAN COM.IMPORTACAO E EXPORTACAO LTDA.'\n",
    "    gabarito['F7'].value = cnpj\n",
    "    gabarito['J7'].value = insc\n",
    "    gabarito['C8'].value = endereco\n",
    "    gabarito['E8'].value = bairro\n",
    "    gabarito['I8'].value = cidade\n",
    "    gabarito['M8'].value = estado\n",
    "    gabarito['C9'].value = 'LUCAS SANTOS'\n",
    "    gabarito['C6'].value = 'Penpel Representações'\n",
    "    gabarito['J6'].value = datetime.today().strftime('%d/%m/%Y')\n",
    "    \n",
    "    completion_text.layout.visibility = 'visible'\n",
    "    gabarito_wb.save('C:/Users/'+getpass.getuser()+'/Downloads/FileName.xlsx')\n",
    "    \n",
    "\n",
    "button.on_click(on_button_clicked)"
   ]
  },
  {
   "cell_type": "code",
   "execution_count": null,
   "id": "d58851f5",
   "metadata": {},
   "outputs": [],
   "source": []
  }
 ],
 "metadata": {
  "kernelspec": {
   "display_name": "Python 3 (ipykernel)",
   "language": "python",
   "name": "python3"
  },
  "language_info": {
   "codemirror_mode": {
    "name": "ipython",
    "version": 3
   },
   "file_extension": ".py",
   "mimetype": "text/x-python",
   "name": "python",
   "nbconvert_exporter": "python",
   "pygments_lexer": "ipython3",
   "version": "3.9.12"
  }
 },
 "nbformat": 4,
 "nbformat_minor": 5
}
