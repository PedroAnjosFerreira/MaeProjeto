{
 "cells": [
  {
   "cell_type": "code",
   "execution_count": null,
   "id": "4c26dd2c-0b38-428c-9dbd-1973a1d84425",
   "metadata": {},
   "outputs": [],
   "source": [
    "import tabula\n",
    "import pandas as pd\n",
    "from openpyxl import load_workbook\n",
    "from PyPDF2 import PdfReader\n",
    "from datetime import datetime\n",
    "\n",
    "!jupyter nbextension enable --py widgetsnbextension\n",
    "!jupyter notebook --VoilaConfiguration.enable_nbextensions=True \n",
    "\n",
    "\n",
    "reader = PdfReader(\"127744.PDF\")\n",
    "page = reader.pages[0]\n",
    "text_total = page.extract_text()\n",
    "\n",
    "\n",
    "gabarito_wb = load_workbook('GABARITO_jul22.xlsx')\n",
    "gabarito = gabarito_wb['Gabarito']\n",
    "table_list = tabula.read_pdf(\"127744.PDF\", pages=\"all\")\n",
    "table = table_list[1]"
   ]
  },
  {
   "cell_type": "code",
   "execution_count": 101,
   "id": "3886accf-0adb-4ecb-b9f0-4c90ba0fae60",
   "metadata": {
    "tags": []
   },
   "outputs": [
    {
     "data": {
      "text/html": [
       "<div>\n",
       "<style scoped>\n",
       "    .dataframe tbody tr th:only-of-type {\n",
       "        vertical-align: middle;\n",
       "    }\n",
       "\n",
       "    .dataframe tbody tr th {\n",
       "        vertical-align: top;\n",
       "    }\n",
       "\n",
       "    .dataframe thead th {\n",
       "        text-align: right;\n",
       "    }\n",
       "</style>\n",
       "<table border=\"1\" class=\"dataframe\">\n",
       "  <thead>\n",
       "    <tr style=\"text-align: right;\">\n",
       "      <th></th>\n",
       "      <th>Cód.Prod.Fornecedor</th>\n",
       "      <th>Qtde</th>\n",
       "    </tr>\n",
       "  </thead>\n",
       "  <tbody>\n",
       "    <tr>\n",
       "      <th>0</th>\n",
       "      <td>10063</td>\n",
       "      <td>400</td>\n",
       "    </tr>\n",
       "    <tr>\n",
       "      <th>1</th>\n",
       "      <td>10065</td>\n",
       "      <td>20</td>\n",
       "    </tr>\n",
       "    <tr>\n",
       "      <th>2</th>\n",
       "      <td>10476</td>\n",
       "      <td>90</td>\n",
       "    </tr>\n",
       "    <tr>\n",
       "      <th>3</th>\n",
       "      <td>10066</td>\n",
       "      <td>120</td>\n",
       "    </tr>\n",
       "  </tbody>\n",
       "</table>\n",
       "</div>"
      ],
      "text/plain": [
       "  Cód.Prod.Fornecedor Qtde\n",
       "0               10063  400\n",
       "1               10065   20\n",
       "2               10476   90\n",
       "3               10066  120"
      ]
     },
     "metadata": {},
     "output_type": "display_data"
    }
   ],
   "source": [
    "new_row = table.columns\n",
    "table.loc[3] = new_row\n",
    "table.columns = table_list[0].columns\n",
    "table = table[[\"Cód.Prod.Fornecedor\",\"Qtde\"]]\n",
    "display(table)"
   ]
  },
  {
   "cell_type": "code",
   "execution_count": 102,
   "id": "27b46420-3213-437a-a505-82690a7cd879",
   "metadata": {},
   "outputs": [
    {
     "data": {
      "text/plain": [
       "Referencia    10063.0\n",
       "PREÇO             8.5\n",
       "Name: 7, dtype: float64"
      ]
     },
     "metadata": {},
     "output_type": "display_data"
    }
   ],
   "source": [
    "df = pd.read_excel('Offpaper_Atacado.xlsx')\n",
    "preco_tbl = df[['Referencia', 'PREÇO']]\n",
    "display(preco_tbl.loc[7])"
   ]
  },
  {
   "cell_type": "code",
   "execution_count": 103,
   "id": "db120f6b-993e-422e-a7fc-b91a72d26f46",
   "metadata": {},
   "outputs": [
    {
     "name": "stdout",
     "output_type": "stream",
     "text": [
      "[10063, 10065, 10476, 10066]\n"
     ]
    },
    {
     "data": {
      "text/html": [
       "<div>\n",
       "<style scoped>\n",
       "    .dataframe tbody tr th:only-of-type {\n",
       "        vertical-align: middle;\n",
       "    }\n",
       "\n",
       "    .dataframe tbody tr th {\n",
       "        vertical-align: top;\n",
       "    }\n",
       "\n",
       "    .dataframe thead th {\n",
       "        text-align: right;\n",
       "    }\n",
       "</style>\n",
       "<table border=\"1\" class=\"dataframe\">\n",
       "  <thead>\n",
       "    <tr style=\"text-align: right;\">\n",
       "      <th></th>\n",
       "      <th>Cód.Prod.Fornecedor</th>\n",
       "      <th>Qtde</th>\n",
       "    </tr>\n",
       "  </thead>\n",
       "  <tbody>\n",
       "    <tr>\n",
       "      <th>0</th>\n",
       "      <td>10063</td>\n",
       "      <td>400</td>\n",
       "    </tr>\n",
       "    <tr>\n",
       "      <th>1</th>\n",
       "      <td>10065</td>\n",
       "      <td>20</td>\n",
       "    </tr>\n",
       "    <tr>\n",
       "      <th>2</th>\n",
       "      <td>10476</td>\n",
       "      <td>90</td>\n",
       "    </tr>\n",
       "    <tr>\n",
       "      <th>3</th>\n",
       "      <td>10066</td>\n",
       "      <td>120</td>\n",
       "    </tr>\n",
       "  </tbody>\n",
       "</table>\n",
       "</div>"
      ],
      "text/plain": [
       "  Cód.Prod.Fornecedor Qtde\n",
       "0               10063  400\n",
       "1               10065   20\n",
       "2               10476   90\n",
       "3               10066  120"
      ]
     },
     "metadata": {},
     "output_type": "display_data"
    }
   ],
   "source": [
    "code = table[\"Cód.Prod.Fornecedor\"].tolist()\n",
    "code = [int(item) for item in code]\n",
    "cont = 0\n",
    "print(code)\n",
    "lista = []\n",
    "for value in preco_tbl['Referencia']:\n",
    "    if int(value) in code:\n",
    "        preco = preco_tbl['PREÇO'][cont]\n",
    "        lista.append(preco)\n",
    "    cont += 1 \n",
    "lista = ['1', '2', '3', '4']\n",
    "display(table)"
   ]
  },
  {
   "cell_type": "code",
   "execution_count": 104,
   "id": "996fede0-1d47-4306-a8f3-6af5c9f71d63",
   "metadata": {},
   "outputs": [],
   "source": [
    "codes = [str(item) for item in code]\n",
    "Quantidade = table[\"Qtde\"].tolist()\n",
    "cont = 0\n",
    "for celula in gabarito['B']:\n",
    "    try:\n",
    "        for cod in codes:\n",
    "            if cod in celula.value:\n",
    "                linha = celula.row\n",
    "                gabarito[f'E{linha}'] = Quantidade[cont]\n",
    "                gabarito[f'F{linha}'] = lista[cont]\n",
    "                cont += 1\n",
    "    except:\n",
    "        pass\n"
   ]
  },
  {
   "cell_type": "code",
   "execution_count": 113,
   "id": "e394271c-822f-4621-8458-564b1af52aeb",
   "metadata": {},
   "outputs": [],
   "source": [
    "def crop(doc, start, end):\n",
    "    return doc[doc.find(start):doc.find(end)+len(end)]\n",
    "\n",
    "def cropr(doc, start, end):\n",
    "    return doc[doc.find(start):doc.rfind(end)]\n",
    "\n",
    "text = crop(text_total, \"Endereço:\", \"P E\")\n",
    "text = cropr(text, \"Endereço:\", \"P\")\n",
    "text = text.split(\" - \")\n",
    "\n",
    "bairro = text[1]\n",
    "bairro = crop(bairro, bairro[0], \"Fone\").split(\" \")\n",
    "bairro = list(filter(None, bairro))\n",
    "bairro.pop()\n",
    "bairro = ' '.join(bairro)\n",
    "\n",
    "endereco = text[0].split(\": \")\n",
    "endereco = endereco[1].strip()\n",
    "\n",
    "cidade = text[3].strip()\n",
    "\n",
    "estadoCnpj = text[4].split(\": \")\n",
    "estado = estadoCnpj[0].split(\" \")\n",
    "estado = list(filter(None, estado))\n",
    "estado = estado[0].strip()\n",
    "\n",
    "cnpj = estadoCnpj[1].strip()\n",
    "\n",
    "insc = text[5].split(\" \")\n",
    "insc = list(filter(None, insc))\n",
    "insc = insc[0].strip()"
   ]
  },
  {
   "cell_type": "code",
   "execution_count": 106,
   "id": "546f9784-4fed-4fe3-8e6b-08d5632203ca",
   "metadata": {},
   "outputs": [],
   "source": [
    "gabarito['C7'].value = 'KAZAN COM.IMPORTACAO E EXPORTACAO LTDA.'\n",
    "gabarito['F7'].value = cnpj\n",
    "gabarito['J7'].value = insc\n",
    "gabarito['C8'].value = endereco\n",
    "gabarito['E8'].value = bairro\n",
    "gabarito['I8'].value = cidade\n",
    "gabarito['M8'].value = estado\n",
    "gabarito['C9'].value = 'LUCAS SANTOS'\n",
    "gabarito['C6'].value = 'Penpel Representações'\n",
    "gabarito['J6'].value = datetime.today().strftime('%d/%m/%Y')\n"
   ]
  },
  {
   "cell_type": "code",
   "execution_count": 107,
   "id": "2332c584-a1e9-4dfe-92b6-8828efda9463",
   "metadata": {},
   "outputs": [],
   "source": [
    "gabarito_wb.save('GabaritoPerfeito.xlsx')"
   ]
  },
  {
   "cell_type": "code",
   "execution_count": null,
   "id": "6dd64436-c77c-4538-b901-b073f0f2fd0e",
   "metadata": {},
   "outputs": [],
   "source": []
  }
 ],
 "metadata": {
  "kernelspec": {
   "display_name": "Python 3 (ipykernel)",
   "language": "python",
   "name": "python3"
  },
  "language_info": {
   "codemirror_mode": {
    "name": "ipython",
    "version": 3
   },
   "file_extension": ".py",
   "mimetype": "text/x-python",
   "name": "python",
   "nbconvert_exporter": "python",
   "pygments_lexer": "ipython3",
   "version": "3.10.5"
  }
 },
 "nbformat": 4,
 "nbformat_minor": 5
}
